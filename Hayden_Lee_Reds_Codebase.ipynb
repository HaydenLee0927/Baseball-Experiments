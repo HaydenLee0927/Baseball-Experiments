{
  "nbformat": 4,
  "nbformat_minor": 0,
  "metadata": {
    "colab": {
      "provenance": [],
      "include_colab_link": true
    },
    "kernelspec": {
      "name": "python3",
      "display_name": "Python 3"
    },
    "language_info": {
      "name": "python"
    }
  },
  "cells": [
    {
      "cell_type": "markdown",
      "metadata": {
        "id": "view-in-github",
        "colab_type": "text"
      },
      "source": [
        "<a href=\"https://colab.research.google.com/github/HaydenLee0927/Baseball-Experiments/blob/main/Hayden_Lee_Reds_Codebase.ipynb\" target=\"_parent\"><img src=\"https://colab.research.google.com/assets/colab-badge.svg\" alt=\"Open In Colab\"/></a>"
      ]
    },
    {
      "cell_type": "code",
      "execution_count": null,
      "metadata": {
        "id": "8NmNjaZJBJGw",
        "colab": {
          "base_uri": "https://localhost:8080/"
        },
        "outputId": "2fea0995-eb65-4dbf-f3bb-923d2ba3c976"
      },
      "outputs": [
        {
          "output_type": "stream",
          "name": "stdout",
          "text": [
            "Mounted at /content/drive\n"
          ]
        }
      ],
      "source": [
        "from google.colab import files\n",
        "import numpy as np\n",
        "import pandas as pd\n",
        "import pickle, math\n",
        "from google.colab import drive\n",
        "drive.mount('/content/drive')\n",
        "from sklearn.cluster import KMeans\n",
        "from sklearn.discriminant_analysis import LinearDiscriminantAnalysis\n",
        "import matplotlib.pyplot as plt"
      ]
    },
    {
      "cell_type": "markdown",
      "source": [
        "##Scratch Work"
      ],
      "metadata": {
        "id": "9hxCbwopOjS1"
      }
    },
    {
      "cell_type": "code",
      "source": [
        "\n",
        "df = pd.read_csv('/content/drive/MyDrive/Reds Hackathon/savant_pitch_level.csv')\n",
        "#cleaned version\n",
        "df = df.drop([\"player_name\",\"game_date\",\"batter\",\"pitcher\",\"events\",\"description\",\"des\",\"game_type\",\"stand\",\"p_throws\",\"home_team\",\"away_team\",\"type\",\"hit_location\",\"bb_type\",\"game_year\",\"on_3b\",\"on_2b\",\"on_1b\",\"inning\",\"inning_topbot\",\"fielder_2\",\"sv_id\",\"game_pk\",\"pitcher_1\",\"fielder_2_1\",\"fielder_3\",\"fielder_4\",\"fielder_5\",\"fielder_6\",\"fielder_7\",\"fielder_8\",\"fielder_9\",\"pitch_name\",\"home_score\",\"away_score\",\"bat_score\",\"fld_score\",\"post_away_score\",\"post_home_score\",\"post_bat_score\",\"post_fld_score\",\"if_fielding_alignment\",\"of_fielding_alignment\",\"role_key\"],axis = 1)"
      ],
      "metadata": {
        "id": "lZ935VIaDj9b"
      },
      "execution_count": null,
      "outputs": []
    },
    {
      "cell_type": "code",
      "source": [
        "dfsp = df[df[\"sp_indicator\"] == 1]\n",
        "dfrp = df[df[\"rp_indicator\"] == 1]"
      ],
      "metadata": {
        "id": "F-tC0MPUFtuY"
      },
      "execution_count": null,
      "outputs": []
    },
    {
      "cell_type": "code",
      "source": [
        "dfbattedballs = df.dropna()\n",
        "dfbattedballs = dfbattedballs.drop([\"iso_value\",\"woba_value\",\"woba_denom\",\"estimated_ba_using_speedangle\",\"estimated_woba_using_speedangle\",\"sp_indicator\",\"rp_indicator\",\"pitch_number_appearance\",\"pitcher_at_bat_number\",\"times_faced\",\"balls\",\"strikes\",\"outs_when_up\",\"hit_distance_sc\",\"delta_home_win_exp\",\"delta_run_exp\",\"outs_when_up\",\"hc_x\",\"hc_y\"],axis = 1)"
      ],
      "metadata": {
        "id": "7Ow8pNtEQFkP"
      },
      "execution_count": null,
      "outputs": []
    },
    {
      "cell_type": "code",
      "source": [
        "dfbattedballs.columns"
      ],
      "metadata": {
        "colab": {
          "base_uri": "https://localhost:8080/"
        },
        "id": "XJacRW1X5F00",
        "outputId": "a3e1859d-4940-4b6f-8148-5aac12ff7d45"
      },
      "execution_count": null,
      "outputs": [
        {
          "output_type": "execute_result",
          "data": {
            "text/plain": [
              "Index(['pitch_type', 'release_speed', 'release_pos_x', 'release_pos_z', 'zone',\n",
              "       'pfx_x', 'pfx_z', 'plate_x', 'plate_z', 'vx0', 'vy0', 'vz0', 'ax', 'ay',\n",
              "       'az', 'sz_top', 'sz_bot', 'launch_speed', 'launch_angle',\n",
              "       'effective_speed', 'release_spin_rate', 'release_extension',\n",
              "       'release_pos_y', 'babip_value', 'launch_speed_angle', 'at_bat_number',\n",
              "       'pitch_number', 'spin_axis'],\n",
              "      dtype='object')"
            ]
          },
          "metadata": {},
          "execution_count": 25
        }
      ]
    },
    {
      "cell_type": "code",
      "source": [
        "dfbattedballs_offspeed = dfbattedballs[dfbattedballs[\"pitch_type\"].isin(['CH','CU','EP','FO','FS','KC','KN','SC','SL','ST','SV'])].drop(\"pitch_type\",axis = 1)\n",
        "dfbattedballs_fastballs = dfbattedballs[dfbattedballs[\"pitch_type\"].isin([\"FA\",\"FC\",\"FF\",\"SI\"])].drop(\"pitch_type\",axis = 1)\n",
        "df.ChangeUp = df[df['pitch_type'] == 'CH']\n",
        "df.Curveball = df[df['pitch_type'] == 'CU']\n",
        "df.Eephus = df[df['pitch_type'] == 'EP']\n",
        "df.Cutter = df[df['pitch_type'] == 'FC']\n",
        "df.Fastball4 = df[df['pitch_type'] == 'FF']\n",
        "df.Forkball = df[df['pitch_type'] == 'FO']\n",
        "df.Splitter = df[df['pitch_type'] == 'FS']\n",
        "df.KnuckCurve = df[df['pitch_type'] == 'KC']\n",
        "df.Knuckleball = df[df['pitch_type'] == 'KN']\n",
        "df.Screwball = df[df['pitch_type'] == 'SC']\n",
        "df.Sinker = df[df['pitch_type'] == 'SI']\n",
        "df.Slider = df[df['pitch_type'] == 'SL']\n",
        "df.Slurve = df[df['pitch_type'] == 'SV']\n",
        "df.Sweeper = df[df['pitch_type'] == 'ST']\n",
        "df.BPFastball = df[df['pitch_type'] == 'FA']\n",
        "df.SlowCurve = df[df['pitch_type'] == 'CS']"
      ],
      "metadata": {
        "id": "K5057BrHWY-b"
      },
      "execution_count": null,
      "outputs": []
    },
    {
      "cell_type": "code",
      "source": [
        "dfbattedballs_offspeed.columns"
      ],
      "metadata": {
        "colab": {
          "base_uri": "https://localhost:8080/"
        },
        "id": "3ArzOI0d4Ay-",
        "outputId": "95339c8e-8ea0-4ebe-cbde-45eacfffc8dd"
      },
      "execution_count": null,
      "outputs": [
        {
          "output_type": "execute_result",
          "data": {
            "text/plain": [
              "Index(['release_speed', 'release_pos_x', 'release_pos_z', 'zone', 'pfx_x',\n",
              "       'pfx_z', 'plate_x', 'plate_z', 'vx0', 'vy0', 'vz0', 'ax', 'ay', 'az',\n",
              "       'sz_top', 'sz_bot', 'launch_speed', 'launch_angle', 'effective_speed',\n",
              "       'release_spin_rate', 'release_extension', 'release_pos_y',\n",
              "       'babip_value', 'launch_speed_angle', 'at_bat_number', 'pitch_number',\n",
              "       'spin_axis'],\n",
              "      dtype='object')"
            ]
          },
          "metadata": {},
          "execution_count": 27
        }
      ]
    },
    {
      "cell_type": "code",
      "source": [
        "results"
      ],
      "metadata": {
        "colab": {
          "base_uri": "https://localhost:8080/",
          "height": 443
        },
        "id": "CaUJ4Ubw72CX",
        "outputId": "b663dd47-dc82-4f83-974b-06afcb676b0f"
      },
      "execution_count": null,
      "outputs": [
        {
          "output_type": "execute_result",
          "data": {
            "text/plain": [
              "         release_speed  release_pos_x  release_pos_z  zone  pfx_x  pfx_z  \\\n",
              "13                86.5          -2.41           6.29   7.0   0.47   0.30   \n",
              "24                83.9          -1.73           6.12  13.0  -1.00   0.20   \n",
              "27                82.8           1.01           5.77   9.0  -0.45  -0.51   \n",
              "35                87.2          -1.65           6.47   8.0  -1.34   0.81   \n",
              "74                77.8           1.89           5.87  14.0  -0.77  -0.81   \n",
              "...                ...            ...            ...   ...    ...    ...   \n",
              "2136166           85.0          -2.57           5.44  13.0  -0.80   0.23   \n",
              "2136182           84.0          -1.80           5.55   1.0  -1.42   0.68   \n",
              "2136201           83.2          -3.07           5.64   5.0   0.84  -0.06   \n",
              "2136251           86.5          -2.05           5.74  12.0   0.59   0.10   \n",
              "2136310           88.0          -0.28           6.92  14.0   0.24  -0.35   \n",
              "\n",
              "         plate_x  plate_z       vx0         vy0  ...  launch_speed  \\\n",
              "13         -0.73     2.15  3.052093 -126.114959  ...          78.3   \n",
              "24         -1.42     1.47  2.707809 -122.095127  ...          80.2   \n",
              "27          0.32     1.67 -0.701738 -120.692350  ...         111.8   \n",
              "35         -0.05     1.44  6.615578 -126.686505  ...         106.1   \n",
              "74          0.81     1.32 -0.908855 -113.374363  ...          81.5   \n",
              "...          ...      ...       ...         ...  ...           ...   \n",
              "2136166    -0.85     2.30  5.667751 -123.770500  ...          88.6   \n",
              "2136182    -0.66     3.01  5.502630 -122.230300  ...          80.1   \n",
              "2136201    -0.20     2.46  4.975702 -121.206900  ...         104.3   \n",
              "2136251     0.84     3.12  5.725423 -125.957900  ...         103.8   \n",
              "2136310     0.09     1.21  0.406026 -128.026200  ...          41.8   \n",
              "\n",
              "         launch_angle  effective_speed  release_spin_rate  release_extension  \\\n",
              "13               36.0             87.3             2304.0                6.4   \n",
              "24              -50.0             83.8             1072.0                6.4   \n",
              "27              -10.0             84.0             2386.0                6.8   \n",
              "35              -21.0             87.8             1676.0                6.6   \n",
              "74               13.0             77.8             2381.0                6.3   \n",
              "...               ...              ...                ...                ...   \n",
              "2136166          11.0             85.8             1628.0                6.7   \n",
              "2136182           5.0             84.5             1985.0                6.7   \n",
              "2136201          29.0             83.8             2727.0                6.3   \n",
              "2136251          12.0             87.2             2261.0                6.5   \n",
              "2136310         -72.0             88.2             2352.0                6.4   \n",
              "\n",
              "         release_pos_y  launch_speed_angle  at_bat_number  pitch_number  \\\n",
              "13               54.12                 3.0             39             6   \n",
              "24               54.12                 2.0             58             6   \n",
              "27               53.67                 2.0             46             4   \n",
              "35               53.88                 2.0             44             7   \n",
              "74               54.18                 4.0             30             6   \n",
              "...                ...                 ...            ...           ...   \n",
              "2136166          53.85                 4.0             88             2   \n",
              "2136182          53.81                 2.0             49             2   \n",
              "2136201          54.18                 6.0             64             2   \n",
              "2136251          53.95                 4.0             85             1   \n",
              "2136310          54.09                 1.0             77             1   \n",
              "\n",
              "         spin_axis  \n",
              "13           122.0  \n",
              "24           242.0  \n",
              "27           307.0  \n",
              "35           234.0  \n",
              "74           295.0  \n",
              "...            ...  \n",
              "2136166      239.0  \n",
              "2136182      248.0  \n",
              "2136201       78.0  \n",
              "2136251       26.0  \n",
              "2136310       86.0  \n",
              "\n",
              "[154438 rows x 26 columns]"
            ],
            "text/html": [
              "\n",
              "  <div id=\"df-a6b3cc9b-8502-4ff0-90ca-1a372da9b4e5\" class=\"colab-df-container\">\n",
              "    <div>\n",
              "<style scoped>\n",
              "    .dataframe tbody tr th:only-of-type {\n",
              "        vertical-align: middle;\n",
              "    }\n",
              "\n",
              "    .dataframe tbody tr th {\n",
              "        vertical-align: top;\n",
              "    }\n",
              "\n",
              "    .dataframe thead th {\n",
              "        text-align: right;\n",
              "    }\n",
              "</style>\n",
              "<table border=\"1\" class=\"dataframe\">\n",
              "  <thead>\n",
              "    <tr style=\"text-align: right;\">\n",
              "      <th></th>\n",
              "      <th>release_speed</th>\n",
              "      <th>release_pos_x</th>\n",
              "      <th>release_pos_z</th>\n",
              "      <th>zone</th>\n",
              "      <th>pfx_x</th>\n",
              "      <th>pfx_z</th>\n",
              "      <th>plate_x</th>\n",
              "      <th>plate_z</th>\n",
              "      <th>vx0</th>\n",
              "      <th>vy0</th>\n",
              "      <th>...</th>\n",
              "      <th>launch_speed</th>\n",
              "      <th>launch_angle</th>\n",
              "      <th>effective_speed</th>\n",
              "      <th>release_spin_rate</th>\n",
              "      <th>release_extension</th>\n",
              "      <th>release_pos_y</th>\n",
              "      <th>launch_speed_angle</th>\n",
              "      <th>at_bat_number</th>\n",
              "      <th>pitch_number</th>\n",
              "      <th>spin_axis</th>\n",
              "    </tr>\n",
              "  </thead>\n",
              "  <tbody>\n",
              "    <tr>\n",
              "      <th>13</th>\n",
              "      <td>86.5</td>\n",
              "      <td>-2.41</td>\n",
              "      <td>6.29</td>\n",
              "      <td>7.0</td>\n",
              "      <td>0.47</td>\n",
              "      <td>0.30</td>\n",
              "      <td>-0.73</td>\n",
              "      <td>2.15</td>\n",
              "      <td>3.052093</td>\n",
              "      <td>-126.114959</td>\n",
              "      <td>...</td>\n",
              "      <td>78.3</td>\n",
              "      <td>36.0</td>\n",
              "      <td>87.3</td>\n",
              "      <td>2304.0</td>\n",
              "      <td>6.4</td>\n",
              "      <td>54.12</td>\n",
              "      <td>3.0</td>\n",
              "      <td>39</td>\n",
              "      <td>6</td>\n",
              "      <td>122.0</td>\n",
              "    </tr>\n",
              "    <tr>\n",
              "      <th>24</th>\n",
              "      <td>83.9</td>\n",
              "      <td>-1.73</td>\n",
              "      <td>6.12</td>\n",
              "      <td>13.0</td>\n",
              "      <td>-1.00</td>\n",
              "      <td>0.20</td>\n",
              "      <td>-1.42</td>\n",
              "      <td>1.47</td>\n",
              "      <td>2.707809</td>\n",
              "      <td>-122.095127</td>\n",
              "      <td>...</td>\n",
              "      <td>80.2</td>\n",
              "      <td>-50.0</td>\n",
              "      <td>83.8</td>\n",
              "      <td>1072.0</td>\n",
              "      <td>6.4</td>\n",
              "      <td>54.12</td>\n",
              "      <td>2.0</td>\n",
              "      <td>58</td>\n",
              "      <td>6</td>\n",
              "      <td>242.0</td>\n",
              "    </tr>\n",
              "    <tr>\n",
              "      <th>27</th>\n",
              "      <td>82.8</td>\n",
              "      <td>1.01</td>\n",
              "      <td>5.77</td>\n",
              "      <td>9.0</td>\n",
              "      <td>-0.45</td>\n",
              "      <td>-0.51</td>\n",
              "      <td>0.32</td>\n",
              "      <td>1.67</td>\n",
              "      <td>-0.701738</td>\n",
              "      <td>-120.692350</td>\n",
              "      <td>...</td>\n",
              "      <td>111.8</td>\n",
              "      <td>-10.0</td>\n",
              "      <td>84.0</td>\n",
              "      <td>2386.0</td>\n",
              "      <td>6.8</td>\n",
              "      <td>53.67</td>\n",
              "      <td>2.0</td>\n",
              "      <td>46</td>\n",
              "      <td>4</td>\n",
              "      <td>307.0</td>\n",
              "    </tr>\n",
              "    <tr>\n",
              "      <th>35</th>\n",
              "      <td>87.2</td>\n",
              "      <td>-1.65</td>\n",
              "      <td>6.47</td>\n",
              "      <td>8.0</td>\n",
              "      <td>-1.34</td>\n",
              "      <td>0.81</td>\n",
              "      <td>-0.05</td>\n",
              "      <td>1.44</td>\n",
              "      <td>6.615578</td>\n",
              "      <td>-126.686505</td>\n",
              "      <td>...</td>\n",
              "      <td>106.1</td>\n",
              "      <td>-21.0</td>\n",
              "      <td>87.8</td>\n",
              "      <td>1676.0</td>\n",
              "      <td>6.6</td>\n",
              "      <td>53.88</td>\n",
              "      <td>2.0</td>\n",
              "      <td>44</td>\n",
              "      <td>7</td>\n",
              "      <td>234.0</td>\n",
              "    </tr>\n",
              "    <tr>\n",
              "      <th>74</th>\n",
              "      <td>77.8</td>\n",
              "      <td>1.89</td>\n",
              "      <td>5.87</td>\n",
              "      <td>14.0</td>\n",
              "      <td>-0.77</td>\n",
              "      <td>-0.81</td>\n",
              "      <td>0.81</td>\n",
              "      <td>1.32</td>\n",
              "      <td>-0.908855</td>\n",
              "      <td>-113.374363</td>\n",
              "      <td>...</td>\n",
              "      <td>81.5</td>\n",
              "      <td>13.0</td>\n",
              "      <td>77.8</td>\n",
              "      <td>2381.0</td>\n",
              "      <td>6.3</td>\n",
              "      <td>54.18</td>\n",
              "      <td>4.0</td>\n",
              "      <td>30</td>\n",
              "      <td>6</td>\n",
              "      <td>295.0</td>\n",
              "    </tr>\n",
              "    <tr>\n",
              "      <th>...</th>\n",
              "      <td>...</td>\n",
              "      <td>...</td>\n",
              "      <td>...</td>\n",
              "      <td>...</td>\n",
              "      <td>...</td>\n",
              "      <td>...</td>\n",
              "      <td>...</td>\n",
              "      <td>...</td>\n",
              "      <td>...</td>\n",
              "      <td>...</td>\n",
              "      <td>...</td>\n",
              "      <td>...</td>\n",
              "      <td>...</td>\n",
              "      <td>...</td>\n",
              "      <td>...</td>\n",
              "      <td>...</td>\n",
              "      <td>...</td>\n",
              "      <td>...</td>\n",
              "      <td>...</td>\n",
              "      <td>...</td>\n",
              "      <td>...</td>\n",
              "    </tr>\n",
              "    <tr>\n",
              "      <th>2136166</th>\n",
              "      <td>85.0</td>\n",
              "      <td>-2.57</td>\n",
              "      <td>5.44</td>\n",
              "      <td>13.0</td>\n",
              "      <td>-0.80</td>\n",
              "      <td>0.23</td>\n",
              "      <td>-0.85</td>\n",
              "      <td>2.30</td>\n",
              "      <td>5.667751</td>\n",
              "      <td>-123.770500</td>\n",
              "      <td>...</td>\n",
              "      <td>88.6</td>\n",
              "      <td>11.0</td>\n",
              "      <td>85.8</td>\n",
              "      <td>1628.0</td>\n",
              "      <td>6.7</td>\n",
              "      <td>53.85</td>\n",
              "      <td>4.0</td>\n",
              "      <td>88</td>\n",
              "      <td>2</td>\n",
              "      <td>239.0</td>\n",
              "    </tr>\n",
              "    <tr>\n",
              "      <th>2136182</th>\n",
              "      <td>84.0</td>\n",
              "      <td>-1.80</td>\n",
              "      <td>5.55</td>\n",
              "      <td>1.0</td>\n",
              "      <td>-1.42</td>\n",
              "      <td>0.68</td>\n",
              "      <td>-0.66</td>\n",
              "      <td>3.01</td>\n",
              "      <td>5.502630</td>\n",
              "      <td>-122.230300</td>\n",
              "      <td>...</td>\n",
              "      <td>80.1</td>\n",
              "      <td>5.0</td>\n",
              "      <td>84.5</td>\n",
              "      <td>1985.0</td>\n",
              "      <td>6.7</td>\n",
              "      <td>53.81</td>\n",
              "      <td>2.0</td>\n",
              "      <td>49</td>\n",
              "      <td>2</td>\n",
              "      <td>248.0</td>\n",
              "    </tr>\n",
              "    <tr>\n",
              "      <th>2136201</th>\n",
              "      <td>83.2</td>\n",
              "      <td>-3.07</td>\n",
              "      <td>5.64</td>\n",
              "      <td>5.0</td>\n",
              "      <td>0.84</td>\n",
              "      <td>-0.06</td>\n",
              "      <td>-0.20</td>\n",
              "      <td>2.46</td>\n",
              "      <td>4.975702</td>\n",
              "      <td>-121.206900</td>\n",
              "      <td>...</td>\n",
              "      <td>104.3</td>\n",
              "      <td>29.0</td>\n",
              "      <td>83.8</td>\n",
              "      <td>2727.0</td>\n",
              "      <td>6.3</td>\n",
              "      <td>54.18</td>\n",
              "      <td>6.0</td>\n",
              "      <td>64</td>\n",
              "      <td>2</td>\n",
              "      <td>78.0</td>\n",
              "    </tr>\n",
              "    <tr>\n",
              "      <th>2136251</th>\n",
              "      <td>86.5</td>\n",
              "      <td>-2.05</td>\n",
              "      <td>5.74</td>\n",
              "      <td>12.0</td>\n",
              "      <td>0.59</td>\n",
              "      <td>0.10</td>\n",
              "      <td>0.84</td>\n",
              "      <td>3.12</td>\n",
              "      <td>5.725423</td>\n",
              "      <td>-125.957900</td>\n",
              "      <td>...</td>\n",
              "      <td>103.8</td>\n",
              "      <td>12.0</td>\n",
              "      <td>87.2</td>\n",
              "      <td>2261.0</td>\n",
              "      <td>6.5</td>\n",
              "      <td>53.95</td>\n",
              "      <td>4.0</td>\n",
              "      <td>85</td>\n",
              "      <td>1</td>\n",
              "      <td>26.0</td>\n",
              "    </tr>\n",
              "    <tr>\n",
              "      <th>2136310</th>\n",
              "      <td>88.0</td>\n",
              "      <td>-0.28</td>\n",
              "      <td>6.92</td>\n",
              "      <td>14.0</td>\n",
              "      <td>0.24</td>\n",
              "      <td>-0.35</td>\n",
              "      <td>0.09</td>\n",
              "      <td>1.21</td>\n",
              "      <td>0.406026</td>\n",
              "      <td>-128.026200</td>\n",
              "      <td>...</td>\n",
              "      <td>41.8</td>\n",
              "      <td>-72.0</td>\n",
              "      <td>88.2</td>\n",
              "      <td>2352.0</td>\n",
              "      <td>6.4</td>\n",
              "      <td>54.09</td>\n",
              "      <td>1.0</td>\n",
              "      <td>77</td>\n",
              "      <td>1</td>\n",
              "      <td>86.0</td>\n",
              "    </tr>\n",
              "  </tbody>\n",
              "</table>\n",
              "<p>154438 rows × 26 columns</p>\n",
              "</div>\n",
              "    <div class=\"colab-df-buttons\">\n",
              "\n",
              "  <div class=\"colab-df-container\">\n",
              "    <button class=\"colab-df-convert\" onclick=\"convertToInteractive('df-a6b3cc9b-8502-4ff0-90ca-1a372da9b4e5')\"\n",
              "            title=\"Convert this dataframe to an interactive table.\"\n",
              "            style=\"display:none;\">\n",
              "\n",
              "  <svg xmlns=\"http://www.w3.org/2000/svg\" height=\"24px\" viewBox=\"0 -960 960 960\">\n",
              "    <path d=\"M120-120v-720h720v720H120Zm60-500h600v-160H180v160Zm220 220h160v-160H400v160Zm0 220h160v-160H400v160ZM180-400h160v-160H180v160Zm440 0h160v-160H620v160ZM180-180h160v-160H180v160Zm440 0h160v-160H620v160Z\"/>\n",
              "  </svg>\n",
              "    </button>\n",
              "\n",
              "  <style>\n",
              "    .colab-df-container {\n",
              "      display:flex;\n",
              "      gap: 12px;\n",
              "    }\n",
              "\n",
              "    .colab-df-convert {\n",
              "      background-color: #E8F0FE;\n",
              "      border: none;\n",
              "      border-radius: 50%;\n",
              "      cursor: pointer;\n",
              "      display: none;\n",
              "      fill: #1967D2;\n",
              "      height: 32px;\n",
              "      padding: 0 0 0 0;\n",
              "      width: 32px;\n",
              "    }\n",
              "\n",
              "    .colab-df-convert:hover {\n",
              "      background-color: #E2EBFA;\n",
              "      box-shadow: 0px 1px 2px rgba(60, 64, 67, 0.3), 0px 1px 3px 1px rgba(60, 64, 67, 0.15);\n",
              "      fill: #174EA6;\n",
              "    }\n",
              "\n",
              "    .colab-df-buttons div {\n",
              "      margin-bottom: 4px;\n",
              "    }\n",
              "\n",
              "    [theme=dark] .colab-df-convert {\n",
              "      background-color: #3B4455;\n",
              "      fill: #D2E3FC;\n",
              "    }\n",
              "\n",
              "    [theme=dark] .colab-df-convert:hover {\n",
              "      background-color: #434B5C;\n",
              "      box-shadow: 0px 1px 3px 1px rgba(0, 0, 0, 0.15);\n",
              "      filter: drop-shadow(0px 1px 2px rgba(0, 0, 0, 0.3));\n",
              "      fill: #FFFFFF;\n",
              "    }\n",
              "  </style>\n",
              "\n",
              "    <script>\n",
              "      const buttonEl =\n",
              "        document.querySelector('#df-a6b3cc9b-8502-4ff0-90ca-1a372da9b4e5 button.colab-df-convert');\n",
              "      buttonEl.style.display =\n",
              "        google.colab.kernel.accessAllowed ? 'block' : 'none';\n",
              "\n",
              "      async function convertToInteractive(key) {\n",
              "        const element = document.querySelector('#df-a6b3cc9b-8502-4ff0-90ca-1a372da9b4e5');\n",
              "        const dataTable =\n",
              "          await google.colab.kernel.invokeFunction('convertToInteractive',\n",
              "                                                    [key], {});\n",
              "        if (!dataTable) return;\n",
              "\n",
              "        const docLinkHtml = 'Like what you see? Visit the ' +\n",
              "          '<a target=\"_blank\" href=https://colab.research.google.com/notebooks/data_table.ipynb>data table notebook</a>'\n",
              "          + ' to learn more about interactive tables.';\n",
              "        element.innerHTML = '';\n",
              "        dataTable['output_type'] = 'display_data';\n",
              "        await google.colab.output.renderOutput(dataTable, element);\n",
              "        const docLink = document.createElement('div');\n",
              "        docLink.innerHTML = docLinkHtml;\n",
              "        element.appendChild(docLink);\n",
              "      }\n",
              "    </script>\n",
              "  </div>\n",
              "\n",
              "\n",
              "<div id=\"df-6a8eaa25-50ab-4aa5-ab3f-17cbc8e923c2\">\n",
              "  <button class=\"colab-df-quickchart\" onclick=\"quickchart('df-6a8eaa25-50ab-4aa5-ab3f-17cbc8e923c2')\"\n",
              "            title=\"Suggest charts\"\n",
              "            style=\"display:none;\">\n",
              "\n",
              "<svg xmlns=\"http://www.w3.org/2000/svg\" height=\"24px\"viewBox=\"0 0 24 24\"\n",
              "     width=\"24px\">\n",
              "    <g>\n",
              "        <path d=\"M19 3H5c-1.1 0-2 .9-2 2v14c0 1.1.9 2 2 2h14c1.1 0 2-.9 2-2V5c0-1.1-.9-2-2-2zM9 17H7v-7h2v7zm4 0h-2V7h2v10zm4 0h-2v-4h2v4z\"/>\n",
              "    </g>\n",
              "</svg>\n",
              "  </button>\n",
              "\n",
              "<style>\n",
              "  .colab-df-quickchart {\n",
              "      --bg-color: #E8F0FE;\n",
              "      --fill-color: #1967D2;\n",
              "      --hover-bg-color: #E2EBFA;\n",
              "      --hover-fill-color: #174EA6;\n",
              "      --disabled-fill-color: #AAA;\n",
              "      --disabled-bg-color: #DDD;\n",
              "  }\n",
              "\n",
              "  [theme=dark] .colab-df-quickchart {\n",
              "      --bg-color: #3B4455;\n",
              "      --fill-color: #D2E3FC;\n",
              "      --hover-bg-color: #434B5C;\n",
              "      --hover-fill-color: #FFFFFF;\n",
              "      --disabled-bg-color: #3B4455;\n",
              "      --disabled-fill-color: #666;\n",
              "  }\n",
              "\n",
              "  .colab-df-quickchart {\n",
              "    background-color: var(--bg-color);\n",
              "    border: none;\n",
              "    border-radius: 50%;\n",
              "    cursor: pointer;\n",
              "    display: none;\n",
              "    fill: var(--fill-color);\n",
              "    height: 32px;\n",
              "    padding: 0;\n",
              "    width: 32px;\n",
              "  }\n",
              "\n",
              "  .colab-df-quickchart:hover {\n",
              "    background-color: var(--hover-bg-color);\n",
              "    box-shadow: 0 1px 2px rgba(60, 64, 67, 0.3), 0 1px 3px 1px rgba(60, 64, 67, 0.15);\n",
              "    fill: var(--button-hover-fill-color);\n",
              "  }\n",
              "\n",
              "  .colab-df-quickchart-complete:disabled,\n",
              "  .colab-df-quickchart-complete:disabled:hover {\n",
              "    background-color: var(--disabled-bg-color);\n",
              "    fill: var(--disabled-fill-color);\n",
              "    box-shadow: none;\n",
              "  }\n",
              "\n",
              "  .colab-df-spinner {\n",
              "    border: 2px solid var(--fill-color);\n",
              "    border-color: transparent;\n",
              "    border-bottom-color: var(--fill-color);\n",
              "    animation:\n",
              "      spin 1s steps(1) infinite;\n",
              "  }\n",
              "\n",
              "  @keyframes spin {\n",
              "    0% {\n",
              "      border-color: transparent;\n",
              "      border-bottom-color: var(--fill-color);\n",
              "      border-left-color: var(--fill-color);\n",
              "    }\n",
              "    20% {\n",
              "      border-color: transparent;\n",
              "      border-left-color: var(--fill-color);\n",
              "      border-top-color: var(--fill-color);\n",
              "    }\n",
              "    30% {\n",
              "      border-color: transparent;\n",
              "      border-left-color: var(--fill-color);\n",
              "      border-top-color: var(--fill-color);\n",
              "      border-right-color: var(--fill-color);\n",
              "    }\n",
              "    40% {\n",
              "      border-color: transparent;\n",
              "      border-right-color: var(--fill-color);\n",
              "      border-top-color: var(--fill-color);\n",
              "    }\n",
              "    60% {\n",
              "      border-color: transparent;\n",
              "      border-right-color: var(--fill-color);\n",
              "    }\n",
              "    80% {\n",
              "      border-color: transparent;\n",
              "      border-right-color: var(--fill-color);\n",
              "      border-bottom-color: var(--fill-color);\n",
              "    }\n",
              "    90% {\n",
              "      border-color: transparent;\n",
              "      border-bottom-color: var(--fill-color);\n",
              "    }\n",
              "  }\n",
              "</style>\n",
              "\n",
              "  <script>\n",
              "    async function quickchart(key) {\n",
              "      const quickchartButtonEl =\n",
              "        document.querySelector('#' + key + ' button');\n",
              "      quickchartButtonEl.disabled = true;  // To prevent multiple clicks.\n",
              "      quickchartButtonEl.classList.add('colab-df-spinner');\n",
              "      try {\n",
              "        const charts = await google.colab.kernel.invokeFunction(\n",
              "            'suggestCharts', [key], {});\n",
              "      } catch (error) {\n",
              "        console.error('Error during call to suggestCharts:', error);\n",
              "      }\n",
              "      quickchartButtonEl.classList.remove('colab-df-spinner');\n",
              "      quickchartButtonEl.classList.add('colab-df-quickchart-complete');\n",
              "    }\n",
              "    (() => {\n",
              "      let quickchartButtonEl =\n",
              "        document.querySelector('#df-6a8eaa25-50ab-4aa5-ab3f-17cbc8e923c2 button');\n",
              "      quickchartButtonEl.style.display =\n",
              "        google.colab.kernel.accessAllowed ? 'block' : 'none';\n",
              "    })();\n",
              "  </script>\n",
              "</div>\n",
              "    </div>\n",
              "  </div>\n"
            ]
          },
          "metadata": {},
          "execution_count": 30
        }
      ]
    },
    {
      "cell_type": "markdown",
      "source": [
        "##Season Level Statistics and Pitch Values with depth analysis of offspeed pitches"
      ],
      "metadata": {
        "id": "NWbJlOLsOmgg"
      }
    },
    {
      "cell_type": "code",
      "source": [
        "df_season_level = pd.read_csv('/content/drive/MyDrive/Reds Hackathon/fangraphs_season_level.csv')\n",
        "df_season_level = df_season_level[df_season_level[\"Pitches\"] >= 500]\n",
        "df_season_level_pitch_values =  df_season_level[['Role','Name','WAR','WPA','FA_pct','wFB_per_c','SL_pct','wSL_per_c','CT_pct','wCT_per_c','CB_pct','wCB_per_c','CH_pct','wCH_per_c','SF_pct','wSF_per_c','KN_pct','wKN_per_c']]\n",
        "df_season_level_pitch_values = df_season_level_pitch_values.fillna(0)\n"
      ],
      "metadata": {
        "id": "l02BG6yDNRp6"
      },
      "execution_count": null,
      "outputs": []
    },
    {
      "cell_type": "code",
      "source": [
        "#Setting up data\n",
        "colors = []\n",
        "names = []\n",
        "fastball_pct = []\n",
        "fastball_v = []\n",
        "offspeed_1st_v = []\n",
        "offspeed_1st_pct = []\n",
        "offspeed_2nd_v = []\n",
        "offspeed_2nd_pct = []\n",
        "offspeed_3rd_v = []\n",
        "offspeed_3rd_pct = []\n",
        "df_season_level_pitch_values = df_season_level_pitch_values.reset_index(drop = True)\n",
        "for i in range(len(df_season_level_pitch_values)):\n",
        "  #For classifying \"good\" pitchers\n",
        "  if df_season_level_pitch_values.iloc[i][\"Role\"] == \"RP\":\n",
        "    if df_season_level_pitch_values.iloc[i]['WPA'] < 1:\n",
        "      continue\n",
        "    colors.append(\"red\")\n",
        "    names.append(df_season_level_pitch_values.iloc[i]['Name'])\n",
        "  else:\n",
        "    if df_season_level_pitch_values.iloc[i]['WAR'] < 2:\n",
        "      continue\n",
        "    names.append(df_season_level_pitch_values.iloc[i]['Name'])\n",
        "    colors.append('blue')\n",
        "  FB_pct = df_season_level_pitch_values.iloc[i]['FA_pct'] + df_season_level_pitch_values.iloc[i]['CT_pct']\n",
        "  SL_pct = df_season_level_pitch_values.iloc[i]['SL_pct']\n",
        "  CB_pct = df_season_level_pitch_values.iloc[i]['CB_pct']\n",
        "  CH_pct = df_season_level_pitch_values.iloc[i]['CH_pct']\n",
        "  SF_pct = df_season_level_pitch_values.iloc[i]['SF_pct']\n",
        "  KN_pct = df_season_level_pitch_values.iloc[i]['KN_pct']\n",
        "  FBv = (df_season_level_pitch_values.iloc[i]['wFB_per_c'] + df_season_level_pitch_values.iloc[i]['wCT_per_c'])/2\n",
        "  SLv = df_season_level_pitch_values.iloc[i]['wSL_per_c']\n",
        "  CBv = df_season_level_pitch_values.iloc[i]['wCB_per_c']\n",
        "  CHv = df_season_level_pitch_values.iloc[i]['wCH_per_c']\n",
        "  SFv = df_season_level_pitch_values.iloc[i]['wSF_per_c']\n",
        "  KNv = df_season_level_pitch_values.iloc[i]['wKN_per_c']\n",
        "  offspeed_list = [(SL_pct,SLv),(CB_pct,CBv),(CH_pct,CHv),(SF_pct,SFv),(KN_pct,KNv)]\n",
        "  sorted_offspeed_list = sorted(offspeed_list, key = lambda x: x[0], reverse = True)\n",
        "  fastball_pct.append(FB_pct)\n",
        "  fastball_v.append(FBv)\n",
        "  if sorted_offspeed_list[0][0] >= 0.025:\n",
        "    offspeed_1st_v.append(sorted_offspeed_list[0][1])\n",
        "    offspeed_1st_pct.append(sorted_offspeed_list[0][0])\n",
        "  else:\n",
        "    offspeed_1st_v.append(0)\n",
        "    offspeed_1st_pct.append(0)\n",
        "  if sorted_offspeed_list[1][0] >= 0.025:\n",
        "    offspeed_2nd_v.append(sorted_offspeed_list[1][1])\n",
        "    offspeed_2nd_pct.append(sorted_offspeed_list[1][0])\n",
        "  else:\n",
        "    offspeed_2nd_v.append(0)\n",
        "    offspeed_2nd_pct.append(0)\n",
        "  if sorted_offspeed_list[2][0] >= 0.025:\n",
        "    offspeed_3rd_v.append(sorted_offspeed_list[2][1])\n",
        "    offspeed_3rd_pct.append(sorted_offspeed_list[2][0])\n",
        "  else:\n",
        "    offspeed_3rd_v.append(0)\n",
        "    offspeed_3rd_pct.append(0)"
      ],
      "metadata": {
        "id": "5Q14xRkVHvI4"
      },
      "execution_count": null,
      "outputs": []
    },
    {
      "cell_type": "code",
      "source": [
        "#Before dividing by WPA and WAR (DO NOT RUN)\n",
        "RP_count = 0\n",
        "RP_1st_count = 0\n",
        "RP_2nd_count = 0\n",
        "RP_3rd_count = 0\n",
        "SP_count = 0\n",
        "SP_1st_count = 0\n",
        "SP_2nd_count = 0\n",
        "SP_3rd_count = 0\n",
        "for i in range(len(df_season_level_pitch_values)):\n",
        "  if df_season_level_pitch_values.iloc[i]['Role'] == 'RP':\n",
        "    RP_count += 1\n",
        "    if offspeed_1st_pct[i] > 0:\n",
        "      RP_1st_count += 1\n",
        "    if offspeed_2nd_pct[i] > 0:\n",
        "      RP_2nd_count += 1\n",
        "    if offspeed_3rd_pct[i] > 0:\n",
        "      RP_3rd_count += 1\n",
        "  else:\n",
        "    SP_count += 1\n",
        "    if offspeed_1st_pct[i] > 0:\n",
        "      SP_1st_count += 1\n",
        "    if offspeed_2nd_pct[i] > 0:\n",
        "      SP_2nd_count += 1\n",
        "    if offspeed_3rd_pct[i] > 0:\n",
        "      SP_3rd_count += 1\n",
        "print(\"Ratio of SPs having 1st offspeed:\", SP_1st_count/SP_count)\n",
        "print(\"Ratio of SPs having 2nd offspeed:\", SP_2nd_count/SP_count)\n",
        "print(\"Ratio of SPs having 3rd offspeed:\",SP_3rd_count/SP_count)\n",
        "print(\"Ratio of RPs having 1st offspeed:\", RP_1st_count/RP_count)\n",
        "print(\"Ratio of RPs having 2nd offspeed:\",RP_2nd_count/RP_count)\n",
        "print(\"Ratio of RPs having 3rd offspeed:\",RP_3rd_count/RP_count)"
      ],
      "metadata": {
        "id": "IugDFAzkP1gT",
        "colab": {
          "base_uri": "https://localhost:8080/"
        },
        "outputId": "bad2382b-c235-4331-8eaf-6a7b3ebc9e53"
      },
      "execution_count": null,
      "outputs": [
        {
          "output_type": "stream",
          "name": "stdout",
          "text": [
            "Ratio of SPs having 1st offspeed: 1.0\n",
            "Ratio of SPs having 2nd offspeed: 0.9726443768996961\n",
            "Ratio of SPs having 3rd offspeed: 0.5379939209726444\n",
            "Ratio of RPs having 1st offspeed: 0.9974025974025974\n",
            "Ratio of RPs having 2nd offspeed: 0.6883116883116883\n",
            "Ratio of RPs having 3rd offspeed: 0.12467532467532468\n"
          ]
        }
      ]
    },
    {
      "cell_type": "code",
      "source": [
        "plt.scatter(fastball_v,offspeed_1st_v,c = colors, alpha = 0.1)\n",
        "plt.xlabel(\"Fastball Pitch Value\")\n",
        "plt.ylabel(\"1st offspeed pitch value\")"
      ],
      "metadata": {
        "colab": {
          "base_uri": "https://localhost:8080/",
          "height": 466
        },
        "id": "JIZWGQx_APyS",
        "outputId": "2862ad1b-603c-4789-9639-addcef65ab6f"
      },
      "execution_count": null,
      "outputs": [
        {
          "output_type": "execute_result",
          "data": {
            "text/plain": [
              "Text(0, 0.5, '1st offspeed pitch value')"
            ]
          },
          "metadata": {},
          "execution_count": 46
        },
        {
          "output_type": "display_data",
          "data": {
            "text/plain": [
              "<Figure size 640x480 with 1 Axes>"
            ],
            "image/png": "[encoded data removed]"
          },
          "metadata": {}
        }
      ]
    },
    {
      "cell_type": "code",
      "source": [
        "plt.scatter(offspeed_1st_v,offspeed_2nd_v,c = colors, alpha = 0.1)\n",
        "plt.xlabel(\"1st offspeed pitch value\")\n",
        "plt.ylabel(\"2nd offspeed pitch value\")"
      ],
      "metadata": {
        "colab": {
          "base_uri": "https://localhost:8080/",
          "height": 466
        },
        "id": "Ba2Hkww6O_Yo",
        "outputId": "cbdaf92d-3f5d-44bf-9712-2212cc90dc10"
      },
      "execution_count": null,
      "outputs": [
        {
          "output_type": "execute_result",
          "data": {
            "text/plain": [
              "Text(0, 0.5, '2nd offspeed pitch value')"
            ]
          },
          "metadata": {},
          "execution_count": 48
        },
        {
          "output_type": "display_data",
          "data": {
            "text/plain": [
              "<Figure size 640x480 with 1 Axes>"
            ],
            "image/png": "[encoded data removed]"
          },
          "metadata": {}
        }
      ]
    },
    {
      "cell_type": "code",
      "source": [
        "plt.scatter(offspeed_2nd_v,offspeed_3rd_v,c = colors, alpha = 0.1)\n",
        "plt.xlabel(\"2nd offspeed pitch value\")\n",
        "plt.ylabel(\"3rd offspeed pitch value\")"
      ],
      "metadata": {
        "colab": {
          "base_uri": "https://localhost:8080/",
          "height": 466
        },
        "id": "IeEKXw7NG5ME",
        "outputId": "7076a81c-b453-4212-f8a8-5a2a2c97be32"
      },
      "execution_count": null,
      "outputs": [
        {
          "output_type": "execute_result",
          "data": {
            "text/plain": [
              "Text(0, 0.5, '3rd offspeed pitch value')"
            ]
          },
          "metadata": {},
          "execution_count": 49
        },
        {
          "output_type": "display_data",
          "data": {
            "text/plain": [
              "<Figure size 640x480 with 1 Axes>"
            ],
            "image/png": "[encoded data removed]"
          },
          "metadata": {}
        }
      ]
    },
    {
      "cell_type": "code",
      "source": [
        "#After filtering through WPA and WAR\n",
        "RP_count = 0\n",
        "RP_1st_count = 0\n",
        "RP_2nd_count = 0\n",
        "RP_3rd_count = 0\n",
        "SP_count = 0\n",
        "SP_1st_count = 0\n",
        "SP_2nd_count = 0\n",
        "SP_3rd_count = 0\n",
        "for i in range(len(colors)):\n",
        "  if colors[i] == 'red':\n",
        "    RP_count += 1\n",
        "    if offspeed_1st_pct[i] > 0:\n",
        "      RP_1st_count += 1\n",
        "    if offspeed_2nd_pct[i] > 0:\n",
        "      RP_2nd_count += 1\n",
        "    if offspeed_3rd_pct[i] > 0:\n",
        "      RP_3rd_count += 1\n",
        "  else:\n",
        "    SP_count += 1\n",
        "    if offspeed_1st_pct[i] > 0:\n",
        "      SP_1st_count += 1\n",
        "    if offspeed_2nd_pct[i] > 0:\n",
        "      SP_2nd_count += 1\n",
        "    if offspeed_3rd_pct[i] > 0:\n",
        "      SP_3rd_count += 1\n",
        "print(\"Ratio of SPs having 1st offspeed:\", SP_1st_count/SP_count)\n",
        "print(\"Ratio of SPs having 2nd offspeed:\", SP_2nd_count/SP_count)\n",
        "print(\"Ratio of SPs having 3rd offspeed:\",SP_3rd_count/SP_count)\n",
        "print(\"Ratio of RPs having 1st offspeed:\", RP_1st_count/RP_count)\n",
        "print(\"Ratio of RPs having 2nd offspeed:\",RP_2nd_count/RP_count)\n",
        "print(\"Ratio of RPs having 3rd offspeed:\",RP_3rd_count/RP_count)"
      ],
      "metadata": {
        "colab": {
          "base_uri": "https://localhost:8080/"
        },
        "id": "LrNDwWYuGvj9",
        "outputId": "6b52f4b8-c653-407d-f474-9b73d61bf431"
      },
      "execution_count": null,
      "outputs": [
        {
          "output_type": "stream",
          "name": "stdout",
          "text": [
            "Ratio of SPs having 1st offspeed: 1.0\n",
            "Ratio of SPs having 2nd offspeed: 0.9847715736040609\n",
            "Ratio of SPs having 3rd offspeed: 0.5685279187817259\n",
            "Ratio of RPs having 1st offspeed: 1.0\n",
            "Ratio of RPs having 2nd offspeed: 0.6101694915254238\n",
            "Ratio of RPs having 3rd offspeed: 0.03954802259887006\n"
          ]
        }
      ]
    },
    {
      "cell_type": "code",
      "source": [
        "#RPs with good 3rd offspeed\n",
        "for i in range(len(offspeed_3rd_v)):\n",
        "  if offspeed_3rd_v[i] > 1 and colors[i] == 'red':\n",
        "    print(names[i],offspeed_3rd_pct[i])"
      ],
      "metadata": {
        "colab": {
          "base_uri": "https://localhost:8080/"
        },
        "id": "PciaXTfFH0xU",
        "outputId": "b598d2e8-077e-46e5-880a-57ed1ac917f4"
      },
      "execution_count": null,
      "outputs": [
        {
          "output_type": "stream",
          "name": "stdout",
          "text": [
            "Ryan Pressly 0.0352\n",
            "Jimmy Herget 0.0746\n",
            "Jhoan Duran 0.0323\n",
            "Hunter Harvey 0.0737\n"
          ]
        }
      ]
    },
    {
      "cell_type": "code",
      "source": [],
      "metadata": {
        "id": "3Fy_eyT_LGNv"
      },
      "execution_count": null,
      "outputs": []
    }
  ]
}